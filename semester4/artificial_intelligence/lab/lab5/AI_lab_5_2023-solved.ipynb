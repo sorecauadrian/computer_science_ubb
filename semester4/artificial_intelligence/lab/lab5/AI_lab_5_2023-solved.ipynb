{
 "cells": [
  {
   "cell_type": "markdown",
   "id": "b8210b19",
   "metadata": {},
   "source": [
    "## A.I. Assignment 5\n",
    "\n",
    "## Learning Goals\n",
    "\n",
    "By the end of this lab, you should be able to:\n",
    "* Get more familiar with tensors in pytorch \n",
    "* Create a simple multilayer perceptron model with pytorch\n",
    "* Visualise the parameters\n",
    "\n",
    "\n",
    "### Task\n",
    "\n",
    "Build a fully connected feed forward network that adds two bits. Determine the a propper achitecture for this network (what database you use for this problem? how many layers? how many neurons on each layer? what is the activation function? what is the loss function? etc)\n",
    "\n",
    "Create at least 3 such networks and compare their performance (how accurate they are?, how farst they are trained to get at 1 accuracy?)\n",
    "\n",
    "Display for the best one the weights for each layer.\n"
   ]
  },
  {
   "cell_type": "code",
   "execution_count": 250,
   "id": "e3614e5f",
   "metadata": {},
   "outputs": [],
   "source": [
    "import torch\n",
    "import torch.nn as nn\n",
    "from collections import OrderedDict"
   ]
  },
  {
   "cell_type": "code",
   "execution_count": 251,
   "id": "5ee7e7d7",
   "metadata": {},
   "outputs": [],
   "source": [
    "# input layer: 2 neurons\n",
    "# hidden layer: 32 neurons\n",
    "# output layer: 2 neurons\n",
    "# sigmoid activation -> sigmoid activation\n",
    "model1 = nn.Sequential(OrderedDict([\n",
    "    ('hidden_net', nn.Linear(2,32)),\n",
    "    ('hidden_act', nn.ReLU()),\n",
    "    ('output_net', nn.Linear(32,2)),\n",
    "    ('output_act', nn.Tanh())\n",
    "]))\n",
    "\n",
    "# input layer: 2 neurons\n",
    "# hidden layer: 8 neurons\n",
    "# output layer: 2 neurons\n",
    "# relu activation -> sigmoid activation\n",
    "model2 = nn.Sequential(OrderedDict([\n",
    "    ('hidden_net', nn.Linear(2,16)),\n",
    "    ('hidden_act', nn.ReLU()),\n",
    "    ('output_net', nn.Linear(16,2)),\n",
    "    ('output_act', nn.Sigmoid())\n",
    "]))\n",
    "\n",
    "# input layer: 2 neurons\n",
    "# hidden layer: 16 neurons\n",
    "# output layer: 2 neurons\n",
    "# sigmoid activation -> sigmoid activation\n",
    "model3 = nn.Sequential(OrderedDict([\n",
    "    ('hidden_net', nn.Linear(2,64)),\n",
    "    ('hidden_act', nn.Sigmoid()),\n",
    "    ('output_net', nn.Linear(64,2)),\n",
    "    ('output_act', nn.Sigmoid())\n",
    "]))"
   ]
  },
  {
   "cell_type": "code",
   "execution_count": 252,
   "id": "665ae958",
   "metadata": {},
   "outputs": [
    {
     "name": "stdout",
     "output_type": "stream",
     "text": [
      "Sequential(\n",
      "  (hidden_net): Linear(in_features=2, out_features=32, bias=True)\n",
      "  (hidden_act): ReLU()\n",
      "  (output_net): Linear(in_features=32, out_features=2, bias=True)\n",
      "  (output_act): Tanh()\n",
      ")\n",
      "Sequential(\n",
      "  (hidden_net): Linear(in_features=2, out_features=16, bias=True)\n",
      "  (hidden_act): ReLU()\n",
      "  (output_net): Linear(in_features=16, out_features=2, bias=True)\n",
      "  (output_act): Sigmoid()\n",
      ")\n",
      "Sequential(\n",
      "  (hidden_net): Linear(in_features=2, out_features=64, bias=True)\n",
      "  (hidden_act): Sigmoid()\n",
      "  (output_net): Linear(in_features=64, out_features=2, bias=True)\n",
      "  (output_act): Sigmoid()\n",
      ")\n"
     ]
    }
   ],
   "source": [
    "print(model1)\n",
    "print(model2)\n",
    "print(model3)"
   ]
  },
  {
   "cell_type": "code",
   "execution_count": 253,
   "id": "e26f0d3e",
   "metadata": {},
   "outputs": [
    {
     "name": "stdout",
     "output_type": "stream",
     "text": [
      "tensor([[0., 0.],\n",
      "        [0., 1.],\n",
      "        [1., 0.],\n",
      "        [1., 1.]])\n"
     ]
    }
   ],
   "source": [
    "# input data\n",
    "data_in = torch.tensor([[0, 0], [0, 1], [1, 0], [1, 1]], dtype=torch.float)\n",
    "print(data_in)"
   ]
  },
  {
   "cell_type": "code",
   "execution_count": 254,
   "id": "4fb16bbc",
   "metadata": {},
   "outputs": [
    {
     "name": "stdout",
     "output_type": "stream",
     "text": [
      "tensor([[0., 0.],\n",
      "        [0., 1.],\n",
      "        [0., 1.],\n",
      "        [1., 0.]])\n"
     ]
    }
   ],
   "source": [
    "# expected output data\n",
    "data_target = torch.tensor([[0, 0], [0, 1], [0, 1], [1, 0]], dtype=torch.float)\n",
    "print(data_target)"
   ]
  },
  {
   "cell_type": "code",
   "execution_count": 255,
   "id": "69d920ed",
   "metadata": {},
   "outputs": [],
   "source": [
    "# loss functions:\n",
    "### model 1: nn.MSELoss() - Mean Squared Error Loss; it calculates the mean squared difference between the predicted and target outputs\n",
    "### model 2: nn.CrossEntropyLoss() - suitable for multi-class classification problems.\n",
    "### model 3: nn.L1Loss() - Mean Absolute Error Loss; it calculates the mean absolute difference between the predicted and targe outputs\n",
    "\n",
    "# optimizers:\n",
    "### model 1: Adam\n",
    "### model 2: SGD (Stochastic Gradient Descent) \n",
    "### model 3: SGD\n",
    "\n",
    "criterion1 = nn.MSELoss()\n",
    "optimizer1 = torch.optim.Adam(model1.parameters(), lr=0.01)\n",
    "criterion2 = nn.CrossEntropyLoss()\n",
    "optimizer2 = torch.optim.SGD(model2.parameters(), lr=0.01)\n",
    "criterion3 = nn.L1Loss()\n",
    "optimizer3 = torch.optim.SGD(model3.parameters(), lr=0.01)"
   ]
  },
  {
   "cell_type": "code",
   "execution_count": 256,
   "id": "cde91f6f",
   "metadata": {},
   "outputs": [],
   "source": [
    "def train(model, inputs, outputs, criterion, optimizer):\n",
    "    for step in range(10000):\n",
    "        # clears the gradients of all optimized tensors\n",
    "        optimizer.zero_grad()\n",
    "\n",
    "        # computes the loss by comparing the model's predictions (model(inputs)) with the actual outputs (outputs)\n",
    "        loss = criterion(model(inputs), outputs)\n",
    "\n",
    "        # computes gradients of the loss with respect to model parameters\n",
    "        loss.backward()\n",
    "\n",
    "        # updates the model parameters based on the gradients computed previously\n",
    "        optimizer.step()\n",
    "        \n",
    "        if ((model(inputs) >= 0.5) == outputs).float().mean() == 1:\n",
    "            return step"
   ]
  },
  {
   "cell_type": "code",
   "execution_count": 257,
   "id": "5b54cd8e-a1fa-4b04-a644-0d213bfad922",
   "metadata": {},
   "outputs": [
    {
     "name": "stdout",
     "output_type": "stream",
     "text": [
      "Predicted sum: \n",
      "tensor([[[0., 0.]],\n",
      "\n",
      "        [[0., 1.]],\n",
      "\n",
      "        [[0., 1.]],\n",
      "\n",
      "        [[1., 0.]]])\n",
      "Target sum: \n",
      "tensor([[[0., 0.]],\n",
      "\n",
      "        [[0., 1.]],\n",
      "\n",
      "        [[0., 1.]],\n",
      "\n",
      "        [[1., 0.]]])\n",
      "Got 100% accuracy at step 20\n",
      "Training Accuracy: 100.0%\n",
      "Predicted sum: \n",
      "tensor([[[0., 1.]],\n",
      "\n",
      "        [[0., 1.]],\n",
      "\n",
      "        [[0., 1.]],\n",
      "\n",
      "        [[1., 0.]]])\n",
      "Target sum: \n",
      "tensor([[[0., 0.]],\n",
      "\n",
      "        [[0., 1.]],\n",
      "\n",
      "        [[0., 1.]],\n",
      "\n",
      "        [[1., 0.]]])\n",
      "Got 100% accuracy at step None\n",
      "Training Accuracy: 75.0%\n",
      "Predicted sum: \n",
      "tensor([[[0., 1.]],\n",
      "\n",
      "        [[0., 1.]],\n",
      "\n",
      "        [[0., 1.]],\n",
      "\n",
      "        [[0., 1.]]])\n",
      "Target sum: \n",
      "tensor([[[0., 0.]],\n",
      "\n",
      "        [[0., 1.]],\n",
      "\n",
      "        [[0., 1.]],\n",
      "\n",
      "        [[1., 0.]]])\n",
      "Got 100% accuracy at step None\n",
      "Training Accuracy: 50.0%\n"
     ]
    }
   ],
   "source": [
    "for model in [model1, model2, model3]:\n",
    "    if model == model1:\n",
    "        criterion = criterion1\n",
    "        optimizer = optimizer1\n",
    "    if model == model2:\n",
    "        criterion = criterion2\n",
    "        optimizer = optimizer2\n",
    "    if model == model3:\n",
    "        criterion = criterion3\n",
    "        optimizer = optimizer3\n",
    "    step = train(model, data_in, data_target, criterion, optimizer)\n",
    "    outputs = model(data_in)\n",
    "\n",
    "    outputs_pairs = outputs.view(outputs.size(0), -1, 2)\n",
    "    data_target_pairs = data_target.view(data_target.size(0), -1, 2)\n",
    "\n",
    "    print(f'Predicted sum: \\n{(outputs_pairs >= 0.5).float()}')\n",
    "    print(f'Target sum: \\n{data_target_pairs}')\n",
    "    \n",
    "    # Compare pairs of elements\n",
    "    accuracy = ((outputs_pairs >= 0.5).float() == data_target_pairs).all(dim=-1).float().mean()\n",
    "    print(f'Got 100% accuracy at step {step}')\n",
    "    print(f'Training Accuracy: {accuracy.item()*100}%')"
   ]
  },
  {
   "cell_type": "code",
   "execution_count": 145,
   "id": "102fc259-3cf6-41d8-99d2-7d0ccf62b30e",
   "metadata": {},
   "outputs": [
    {
     "name": "stdout",
     "output_type": "stream",
     "text": [
      "Weight of network1 :\n",
      " Parameter containing:\n",
      "tensor([[-3.2480, -3.2885],\n",
      "        [ 3.3860,  3.4893],\n",
      "        [ 4.2936, -3.8407],\n",
      "        [ 3.6871,  3.6478],\n",
      "        [-2.9255, -2.9753],\n",
      "        [-2.9699, -2.9571],\n",
      "        [ 2.8422,  2.6562],\n",
      "        [-3.3319, -3.4475],\n",
      "        [-4.5871, -4.7537],\n",
      "        [-2.3196, -2.5263],\n",
      "        [-3.8301, -3.5614],\n",
      "        [-3.8168, -3.5684],\n",
      "        [-3.7551,  4.5618],\n",
      "        [-3.1402, -3.1070],\n",
      "        [-4.0948, -4.1819],\n",
      "        [ 2.7616,  2.8866],\n",
      "        [ 3.2162,  3.2121],\n",
      "        [-1.8533, -1.9224],\n",
      "        [-3.3478, -3.6515],\n",
      "        [ 2.8064,  1.2328],\n",
      "        [-3.6245, -3.6802],\n",
      "        [ 3.6965, -4.3792],\n",
      "        [-3.7593, -3.7607],\n",
      "        [-3.3812, -3.2490],\n",
      "        [-2.5035, -2.1806],\n",
      "        [-3.6973, -3.5702],\n",
      "        [-0.5385, -2.1092],\n",
      "        [ 4.2259, -3.8352],\n",
      "        [ 3.9677,  3.6659],\n",
      "        [-2.9159, -2.6737],\n",
      "        [-2.8601, -2.8625],\n",
      "        [-2.7602, -0.5675]], requires_grad=True)\n",
      "Weight of network2 :\n",
      " Parameter containing:\n",
      "tensor([[-0.2723, -0.5682],\n",
      "        [ 1.0753, -1.2368],\n",
      "        [-0.6010,  0.5307],\n",
      "        [-1.7955,  1.0845],\n",
      "        [-0.9037, -1.1205],\n",
      "        [ 1.6347,  1.8446],\n",
      "        [-0.9269, -0.3512],\n",
      "        [ 0.4556, -1.2628]], requires_grad=True)\n",
      "Weight of network3 :\n",
      " Parameter containing:\n",
      "tensor([[ 0.2596,  0.4658],\n",
      "        [-0.4419, -0.5726],\n",
      "        [ 0.2593, -0.0334],\n",
      "        [-0.0814,  0.2507],\n",
      "        [ 0.2489,  0.1912],\n",
      "        [-0.4412, -0.2354],\n",
      "        [-0.7022,  0.3275],\n",
      "        [ 0.2200, -0.6679],\n",
      "        [-0.3249, -0.2662],\n",
      "        [ 0.4374, -0.1478],\n",
      "        [ 0.2283, -0.0245],\n",
      "        [-0.0358, -0.2953],\n",
      "        [-0.1957, -0.0480],\n",
      "        [-0.5646,  0.6277],\n",
      "        [-0.3204,  0.5300],\n",
      "        [ 0.0419, -0.0427]], requires_grad=True)\n"
     ]
    }
   ],
   "source": [
    "print('Weight of network1 :\\n',model1[0].weight)\n",
    "print('Weight of network2 :\\n',model2[0].weight)\n",
    "print('Weight of network3 :\\n',model3[0].weight)"
   ]
  },
  {
   "cell_type": "code",
   "execution_count": null,
   "id": "e29c65a2",
   "metadata": {},
   "outputs": [],
   "source": []
  },
  {
   "cell_type": "code",
   "execution_count": null,
   "id": "9d3a0680-8527-4931-909c-5c414a7ddf35",
   "metadata": {},
   "outputs": [],
   "source": []
  }
 ],
 "metadata": {
  "kernelspec": {
   "display_name": "Python 3 (ipykernel)",
   "language": "python",
   "name": "python3"
  },
  "language_info": {
   "codemirror_mode": {
    "name": "ipython",
    "version": 3
   },
   "file_extension": ".py",
   "mimetype": "text/x-python",
   "name": "python",
   "nbconvert_exporter": "python",
   "pygments_lexer": "ipython3",
   "version": "3.11.8"
  }
 },
 "nbformat": 4,
 "nbformat_minor": 5
}
